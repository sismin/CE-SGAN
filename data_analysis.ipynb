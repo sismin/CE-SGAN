{
 "cells": [
  {
   "cell_type": "code",
   "execution_count": 1,
   "id": "4275f141",
   "metadata": {
    "pycharm": {
     "name": "#%%\n"
    }
   },
   "outputs": [],
   "source": [
    "import pandas as pd \n",
    "import matplotlib.pyplot as plt"
   ]
  },
  {
   "cell_type": "code",
   "execution_count": 2,
   "id": "827cbb56",
   "metadata": {
    "pycharm": {
     "name": "#%%\n"
    }
   },
   "outputs": [],
   "source": [
    "filename = './Dataset/美国油田/all_data不含PE缺失.xlsx'\n",
    "data=pd.read_excel(filename)"
   ]
  },
  {
   "cell_type": "code",
   "execution_count": 3,
   "id": "a061487d",
   "metadata": {
    "pycharm": {
     "name": "#%%\n"
    }
   },
   "outputs": [
    {
     "data": {
      "text/html": [
       "<div>\n",
       "<style scoped>\n",
       "    .dataframe tbody tr th:only-of-type {\n",
       "        vertical-align: middle;\n",
       "    }\n",
       "\n",
       "    .dataframe tbody tr th {\n",
       "        vertical-align: top;\n",
       "    }\n",
       "\n",
       "    .dataframe thead th {\n",
       "        text-align: right;\n",
       "    }\n",
       "</style>\n",
       "<table border=\"1\" class=\"dataframe\">\n",
       "  <thead>\n",
       "    <tr style=\"text-align: right;\">\n",
       "      <th></th>\n",
       "      <th>Formation</th>\n",
       "      <th>Well Name</th>\n",
       "      <th>Depth</th>\n",
       "      <th>GR</th>\n",
       "      <th>ILD_log10</th>\n",
       "      <th>DeltaPHI</th>\n",
       "      <th>PHIND</th>\n",
       "      <th>PE</th>\n",
       "      <th>NM_M</th>\n",
       "      <th>RELPOS</th>\n",
       "      <th>Facies</th>\n",
       "    </tr>\n",
       "  </thead>\n",
       "  <tbody>\n",
       "    <tr>\n",
       "      <th>0</th>\n",
       "      <td>B5 LM</td>\n",
       "      <td>Recruit F9</td>\n",
       "      <td>3067.5</td>\n",
       "      <td>40.938</td>\n",
       "      <td>0.167000</td>\n",
       "      <td>2.706</td>\n",
       "      <td>15.214</td>\n",
       "      <td>8.094</td>\n",
       "      <td>2</td>\n",
       "      <td>0.550</td>\n",
       "      <td>9</td>\n",
       "    </tr>\n",
       "    <tr>\n",
       "      <th>1</th>\n",
       "      <td>B5 LM</td>\n",
       "      <td>CHURCHMAN BIBLE</td>\n",
       "      <td>3067.5</td>\n",
       "      <td>40.938</td>\n",
       "      <td>0.167000</td>\n",
       "      <td>2.706</td>\n",
       "      <td>15.214</td>\n",
       "      <td>8.094</td>\n",
       "      <td>2</td>\n",
       "      <td>0.550</td>\n",
       "      <td>9</td>\n",
       "    </tr>\n",
       "    <tr>\n",
       "      <th>2</th>\n",
       "      <td>B5 LM</td>\n",
       "      <td>NOLAN</td>\n",
       "      <td>3001.0</td>\n",
       "      <td>65.000</td>\n",
       "      <td>0.225000</td>\n",
       "      <td>1.096</td>\n",
       "      <td>13.260</td>\n",
       "      <td>8.063</td>\n",
       "      <td>2</td>\n",
       "      <td>0.694</td>\n",
       "      <td>8</td>\n",
       "    </tr>\n",
       "    <tr>\n",
       "      <th>3</th>\n",
       "      <td>B5 LM</td>\n",
       "      <td>Recruit F9</td>\n",
       "      <td>3061.5</td>\n",
       "      <td>52.281</td>\n",
       "      <td>0.486000</td>\n",
       "      <td>3.680</td>\n",
       "      <td>17.218</td>\n",
       "      <td>7.652</td>\n",
       "      <td>2</td>\n",
       "      <td>0.750</td>\n",
       "      <td>9</td>\n",
       "    </tr>\n",
       "    <tr>\n",
       "      <th>4</th>\n",
       "      <td>B5 LM</td>\n",
       "      <td>CHURCHMAN BIBLE</td>\n",
       "      <td>3061.5</td>\n",
       "      <td>52.281</td>\n",
       "      <td>0.486000</td>\n",
       "      <td>3.680</td>\n",
       "      <td>17.218</td>\n",
       "      <td>7.652</td>\n",
       "      <td>2</td>\n",
       "      <td>0.750</td>\n",
       "      <td>9</td>\n",
       "    </tr>\n",
       "    <tr>\n",
       "      <th>...</th>\n",
       "      <td>...</td>\n",
       "      <td>...</td>\n",
       "      <td>...</td>\n",
       "      <td>...</td>\n",
       "      <td>...</td>\n",
       "      <td>...</td>\n",
       "      <td>...</td>\n",
       "      <td>...</td>\n",
       "      <td>...</td>\n",
       "      <td>...</td>\n",
       "      <td>...</td>\n",
       "    </tr>\n",
       "    <tr>\n",
       "      <th>4057</th>\n",
       "      <td>B1 SH</td>\n",
       "      <td>CROSS H CATTLE</td>\n",
       "      <td>2632.5</td>\n",
       "      <td>122.568</td>\n",
       "      <td>0.578754</td>\n",
       "      <td>-16.400</td>\n",
       "      <td>71.700</td>\n",
       "      <td>0.990</td>\n",
       "      <td>1</td>\n",
       "      <td>0.955</td>\n",
       "      <td>3</td>\n",
       "    </tr>\n",
       "    <tr>\n",
       "      <th>4058</th>\n",
       "      <td>B1 SH</td>\n",
       "      <td>CROSS H CATTLE</td>\n",
       "      <td>2633.5</td>\n",
       "      <td>109.836</td>\n",
       "      <td>0.562055</td>\n",
       "      <td>1.500</td>\n",
       "      <td>81.650</td>\n",
       "      <td>0.852</td>\n",
       "      <td>1</td>\n",
       "      <td>0.924</td>\n",
       "      <td>2</td>\n",
       "    </tr>\n",
       "    <tr>\n",
       "      <th>4059</th>\n",
       "      <td>B1 SH</td>\n",
       "      <td>CROSS H CATTLE</td>\n",
       "      <td>2633.0</td>\n",
       "      <td>120.345</td>\n",
       "      <td>0.568319</td>\n",
       "      <td>2.000</td>\n",
       "      <td>84.400</td>\n",
       "      <td>0.833</td>\n",
       "      <td>1</td>\n",
       "      <td>0.939</td>\n",
       "      <td>2</td>\n",
       "    </tr>\n",
       "    <tr>\n",
       "      <th>4060</th>\n",
       "      <td>C SH</td>\n",
       "      <td>CROSS H CATTLE</td>\n",
       "      <td>2788.0</td>\n",
       "      <td>75.107</td>\n",
       "      <td>0.480725</td>\n",
       "      <td>-16.000</td>\n",
       "      <td>75.500</td>\n",
       "      <td>0.646</td>\n",
       "      <td>1</td>\n",
       "      <td>0.645</td>\n",
       "      <td>3</td>\n",
       "    </tr>\n",
       "    <tr>\n",
       "      <th>4061</th>\n",
       "      <td>C SH</td>\n",
       "      <td>LUKE G U</td>\n",
       "      <td>2808.5</td>\n",
       "      <td>75.520</td>\n",
       "      <td>0.606000</td>\n",
       "      <td>3.900</td>\n",
       "      <td>25.050</td>\n",
       "      <td>0.200</td>\n",
       "      <td>1</td>\n",
       "      <td>0.018</td>\n",
       "      <td>3</td>\n",
       "    </tr>\n",
       "  </tbody>\n",
       "</table>\n",
       "<p>4062 rows × 11 columns</p>\n",
       "</div>"
      ],
      "text/plain": [
       "     Formation        Well Name   Depth       GR  ILD_log10  DeltaPHI   PHIND  \\\n",
       "0        B5 LM       Recruit F9  3067.5   40.938   0.167000     2.706  15.214   \n",
       "1        B5 LM  CHURCHMAN BIBLE  3067.5   40.938   0.167000     2.706  15.214   \n",
       "2        B5 LM            NOLAN  3001.0   65.000   0.225000     1.096  13.260   \n",
       "3        B5 LM       Recruit F9  3061.5   52.281   0.486000     3.680  17.218   \n",
       "4        B5 LM  CHURCHMAN BIBLE  3061.5   52.281   0.486000     3.680  17.218   \n",
       "...        ...              ...     ...      ...        ...       ...     ...   \n",
       "4057     B1 SH   CROSS H CATTLE  2632.5  122.568   0.578754   -16.400  71.700   \n",
       "4058     B1 SH   CROSS H CATTLE  2633.5  109.836   0.562055     1.500  81.650   \n",
       "4059     B1 SH   CROSS H CATTLE  2633.0  120.345   0.568319     2.000  84.400   \n",
       "4060      C SH   CROSS H CATTLE  2788.0   75.107   0.480725   -16.000  75.500   \n",
       "4061      C SH         LUKE G U  2808.5   75.520   0.606000     3.900  25.050   \n",
       "\n",
       "         PE  NM_M  RELPOS  Facies  \n",
       "0     8.094     2   0.550       9  \n",
       "1     8.094     2   0.550       9  \n",
       "2     8.063     2   0.694       8  \n",
       "3     7.652     2   0.750       9  \n",
       "4     7.652     2   0.750       9  \n",
       "...     ...   ...     ...     ...  \n",
       "4057  0.990     1   0.955       3  \n",
       "4058  0.852     1   0.924       2  \n",
       "4059  0.833     1   0.939       2  \n",
       "4060  0.646     1   0.645       3  \n",
       "4061  0.200     1   0.018       3  \n",
       "\n",
       "[4062 rows x 11 columns]"
      ]
     },
     "execution_count": 3,
     "metadata": {},
     "output_type": "execute_result"
    }
   ],
   "source": [
    "data"
   ]
  },
  {
   "cell_type": "code",
   "execution_count": 4,
   "id": "3e610977",
   "metadata": {
    "pycharm": {
     "name": "#%%\n"
    }
   },
   "outputs": [],
   "source": [
    "f = data['Facies'].value_counts()"
   ]
  },
  {
   "cell_type": "code",
   "execution_count": 7,
   "id": "33f12cc6",
   "metadata": {
    "pycharm": {
     "name": "#%%\n"
    }
   },
   "outputs": [],
   "source": [
    "f.sort_index(inplace=True)"
   ]
  },
  {
   "cell_type": "code",
   "execution_count": 10,
   "id": "ddbec0dd",
   "metadata": {
    "pycharm": {
     "name": "#%%\n"
    }
   },
   "outputs": [
    {
     "data": {
      "text/plain": [
       "1    279\n",
       "2    897\n",
       "3    769\n",
       "4    249\n",
       "5    266\n",
       "6    589\n",
       "7    124\n",
       "8    710\n",
       "9    179\n",
       "Name: Facies, dtype: int64"
      ]
     },
     "execution_count": 10,
     "metadata": {},
     "output_type": "execute_result"
    }
   ],
   "source": [
    "f"
   ]
  },
  {
   "cell_type": "code",
   "execution_count": 8,
   "id": "b397c322",
   "metadata": {
    "pycharm": {
     "name": "#%%\n"
    }
   },
   "outputs": [],
   "source": [
    "x = ['SS','CSiS','FSiS','SiSh','MS','WS','D','PS','BS'] "
   ]
  },
  {
   "cell_type": "code",
   "execution_count": 14,
   "id": "b04db824",
   "metadata": {
    "pycharm": {
     "name": "#%%\n"
    }
   },
   "outputs": [
    {
     "data": {
      "image/png": "[encoded data removed]",
      "text/plain": [
       "<Figure size 432x288 with 1 Axes>"
      ]
     },
     "metadata": {
      "needs_background": "light"
     },
     "output_type": "display_data"
    }
   ],
   "source": [
    "plt.bar(x,f.values)\n",
    "for a,b in zip(x,f.values): \n",
    "    plt.text(a, b+0.05, '%d' % b, ha='center', va= 'bottom',fontsize=10)\n",
    "plt.savefig('faces.svg')"
   ]
  }
 ],
 "metadata": {
  "kernelspec": {
   "display_name": "Python 3",
   "language": "python",
   "name": "python3"
  },
  "language_info": {
   "codemirror_mode": {
    "name": "ipython",
    "version": 3
   },
   "file_extension": ".py",
   "mimetype": "text/x-python",
   "name": "python",
   "nbconvert_exporter": "python",
   "pygments_lexer": "ipython3",
   "version": "3.8.8"
  }
 },
 "nbformat": 4,
 "nbformat_minor": 5
}